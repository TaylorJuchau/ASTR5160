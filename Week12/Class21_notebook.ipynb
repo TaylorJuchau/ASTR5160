{
 "cells": [
  {
   "cell_type": "code",
   "execution_count": 1,
   "id": "8fdba750",
   "metadata": {},
   "outputs": [],
   "source": [
    "# TJ needed imports\n",
    "import sys\n",
    "import os\n",
    "#TJ change directory to include the entire ASTRO5160 directory\n",
    "sys.path.append(os.path.abspath(os.path.join(os.getcwd(), '..'))) \n",
    "from Week8.Class16_notebook import *\n",
    "from astropy.coordinates import SkyCoord\n",
    "from scipy.spatial import cKDTree\n",
    "import numpy as np\n",
    "from astropy import units as u\n",
    "import glob"
   ]
  },
  {
   "cell_type": "code",
   "execution_count": null,
   "id": "a5dd7e48",
   "metadata": {},
   "outputs": [],
   "source": []
  },
  {
   "cell_type": "code",
   "execution_count": 6,
   "id": "2a14f8f0",
   "metadata": {},
   "outputs": [
    {
     "ename": "TypeError",
     "evalue": "__init__() takes at least 1 positional argument (0 given)",
     "output_type": "error",
     "traceback": [
      "\u001b[1;31m---------------------------------------------------------------------------\u001b[0m",
      "\u001b[1;31mTypeError\u001b[0m                                 Traceback (most recent call last)",
      "Cell \u001b[1;32mIn[6], line 7\u001b[0m\n\u001b[0;32m      4\u001b[0m sweep_file \u001b[38;5;241m=\u001b[39m search_directory_for_location(sweep_directory, loc)\n\u001b[0;32m      6\u001b[0m loc_xyz \u001b[38;5;241m=\u001b[39m loc\u001b[38;5;241m.\u001b[39mcartesian\u001b[38;5;241m.\u001b[39mxyz\u001b[38;5;241m.\u001b[39mT\n\u001b[1;32m----> 7\u001b[0m tree \u001b[38;5;241m=\u001b[39m cKDTree() \u001b[38;5;66;03m#TJ build ckd tree for efficient searching\u001b[39;00m\n\u001b[0;32m      9\u001b[0m \u001b[38;5;66;03m#TJ query the tree for the nearest neighbor of each object in match_all_these table\u001b[39;00m\n\u001b[0;32m     10\u001b[0m _, matched_indices \u001b[38;5;241m=\u001b[39m tree\u001b[38;5;241m.\u001b[39mquery(obs_xyz)\n",
      "File \u001b[1;32m_ckdtree.pyx:543\u001b[0m, in \u001b[0;36mscipy.spatial._ckdtree.cKDTree.__init__\u001b[1;34m()\u001b[0m\n",
      "\u001b[1;31mTypeError\u001b[0m: __init__() takes at least 1 positional argument (0 given)"
     ]
    }
   ],
   "source": [
    "#python task #1 Find object closest to (188.53667, 21.04572)\n",
    "sweep_directory = '/d/scratch/ASTR5160/data/legacysurvey/dr9/south/sweep/9.0' #TJ assign necessary sweep file directory\n",
    "loc = SkyCoord(188.53667, 21.04572, unit = u.deg)\n",
    "sweep_file = search_directory_for_location(sweep_directory, loc)\n",
    "\n",
    "loc_xyz = loc.cartesian.xyz.T\n",
    "tree = cKDTree() #TJ build ckd tree for efficient searching\n",
    "\n",
    "#TJ query the tree for the nearest neighbor of each object in match_all_these table\n",
    "_, matched_indices = tree.query(obs_xyz) #TJ first output is the matched entry's euclidean distance from source, not easy to convert to deg\n"
   ]
  },
  {
   "cell_type": "code",
   "execution_count": 7,
   "id": "4749b516",
   "metadata": {},
   "outputs": [
    {
     "data": {
      "text/plain": [
       "[]"
      ]
     },
     "execution_count": 7,
     "metadata": {},
     "output_type": "execute_result"
    }
   ],
   "source": [
    "sweep_file"
   ]
  },
  {
   "cell_type": "code",
   "execution_count": null,
   "id": "5a9f7c13",
   "metadata": {},
   "outputs": [],
   "source": []
  }
 ],
 "metadata": {
  "kernelspec": {
   "display_name": "Python 3 (ipykernel)",
   "language": "python",
   "name": "python3"
  },
  "language_info": {
   "codemirror_mode": {
    "name": "ipython",
    "version": 3
   },
   "file_extension": ".py",
   "mimetype": "text/x-python",
   "name": "python",
   "nbconvert_exporter": "python",
   "pygments_lexer": "ipython3",
   "version": "3.11.5"
  }
 },
 "nbformat": 4,
 "nbformat_minor": 5
}
