{
 "cells": [
  {
   "cell_type": "code",
   "execution_count": 1,
   "id": "1441b2d7",
   "metadata": {},
   "outputs": [],
   "source": [
    "# TJ needed imports\n",
    "import sys\n",
    "import os\n",
    "from astropy.coordinates import SkyCoord\n",
    "from astropy.table import Table\n",
    "import numpy as np\n",
    "from astropy import units as u\n",
    "import glob\n",
    "\n",
    "#TJ change directory to include the entire ASTRO5160 directory\n",
    "sys.path.append(os.path.abspath(os.path.join(os.getcwd(), '..'))) \n",
    "from Homeworks.useful_functions import *\n"
   ]
  },
  {
   "cell_type": "code",
   "execution_count": 2,
   "id": "a7d46b9c",
   "metadata": {},
   "outputs": [
    {
     "name": "stdout",
     "output_type": "stream",
     "text": [
      "object located at (188.536672729394 21.045716617683013) is classified as an EXP which is an expontial galaxy\n",
      "This means the light profile is extended over several pixels (not a point source)\n"
     ]
    }
   ],
   "source": [
    "#python task #1 Find object closest to (188.53667, 21.04572)\n",
    "sweep_directory = '/d/scratch/ASTR5160/data/legacysurvey/dr9/south/sweep/9.0' #TJ assign necessary sweep file directory\n",
    "loc = SkyCoord(188.53667, 21.04572, unit = u.deg)\n",
    "\n",
    "sweep_file = find_sweep_file(sweep_directory, loc) #TJ grab the only sweep file we need\n",
    "sweep_data = read_partial_fits(sweep_file, [\"RA\", \"DEC\",\"ALLMASK_G\", \"ALLMASK_R\", \"ALLMASK_Z\", \"TYPE\"]) #TJ read in the columns that we need\n",
    "sweep_obj = find_matching_object(loc, sweep_data) #TJ find the closest obejct to our given location\n",
    "print(f'object located at ({sweep_obj[\"RA\"]} {sweep_obj[\"DEC\"]}) is classified as an {sweep_obj[\"TYPE\"]} which is an expontial galaxy')\n",
    "print('This means the light profile is extended over several pixels (not a point source)')"
   ]
  },
  {
   "cell_type": "code",
   "execution_count": 3,
   "id": "de90ac9b",
   "metadata": {},
   "outputs": [
    {
     "name": "stdout",
     "output_type": "stream",
     "text": [
      "This object is saturated in all the G, R, and Z bands\n",
      "Using the viewer, this object is saturated, evidenced by the bright white/red discolored center\n",
      "This object is likely a galaxy because it is larger than a standard PSF would indicate, but I suppose it could be a quasar that just \n",
      "saturates the nearby CCDs and simply appears to be larger than a point source.\n"
     ]
    }
   ],
   "source": [
    "#Python task #2 Is this object saturated in any bands?\n",
    "print(f'This object is saturated in all the G, R, and Z bands')\n",
    "print('Using the viewer, this object is saturated, evidenced by the bright white/red discolored center')\n",
    "print('This object is likely a galaxy because it is larger than a standard PSF would indicate, but I suppose it could be a quasar that just \\nsaturates the nearby CCDs and simply appears to be larger than a point source.')"
   ]
  },
  {
   "cell_type": "code",
   "execution_count": 4,
   "id": "8a0360eb",
   "metadata": {},
   "outputs": [
    {
     "name": "stdout",
     "output_type": "stream",
     "text": [
      "Keeping 39655 objects. This should be 39655.\n",
      "Found 275 matching qso objects. This should be 275.\n"
     ]
    }
   ],
   "source": [
    "#TJ Python task #3 find all PSF objects within 3 degrees of 180,30 with r_mag < 20, match to qso dataset\n",
    "center = SkyCoord(180, 30, unit=u.deg) #TJ define center of field\n",
    "needed_ra = 179, 179, 181, 181 #TJ assign random objects that will force the sweep files to grab all 4 of the sweep files that share this corner\n",
    "needed_decs = 29, 31, 31, 29\n",
    "dummy_locations = SkyCoord(needed_ra*u.deg, needed_decs*u.deg, unit = u.deg) #TJ create dummy locations to get all the neighboring sweep files\n",
    "sweep_files = find_sweep_files_with(sweep_directory, dummy_locations)\n",
    "sweep_columns_to_keep = [\"RA\", \"DEC\", \"FLUX_G\", \"FLUX_R\", \"FLUX_Z\", \"FLUX_W1\", \"FLUX_W2\", \"TYPE\"] #TJ only read in columns we need\n",
    "sweep_data = vstack([read_partial_fits(file, sweep_columns_to_keep) for file in sweep_files]) #TJ subsequent stack sweep files as new rows on bottom\n",
    "sweep_objs = SkyCoord(sweep_data[\"RA\"], sweep_data[\"DEC\"], unit=u.deg) #TJ create skycoord objects\n",
    "near_center = sweep_data[center.separation(sweep_objs) < 3*u.deg] #TJ filter by distance to center less than 3 degrees\n",
    "for flux_col in ['FLUX_W1', 'FLUX_W2', \"FLUX_G\", 'FLUX_R', \"FLUX_Z\"]: #TJ prevent attempting to take log10 of negative number by replacing with a small positive number\n",
    "    near_center[flux_col] = np.where(near_center[flux_col] <= 0, 1e-10, near_center[flux_col]) \n",
    "near_center = add_mag_column(near_center, ['FLUX_W1', 'FLUX_W2', 'FLUX_G', 'FLUX_R', \"FLUX_Z\"]) #TJ add magnitude columns based on fluxes\n",
    "valid_matches = ((near_center['R_mag'] < 20) & (near_center[\"TYPE\"] == \"PSF\")) #TJ filter by r_mag and type\n",
    "psfobjs = near_center[valid_matches]\n",
    "print(f'Keeping {len(psfobjs)} objects. This should be 39655.')\n",
    "\n",
    "qso_file_path = '/d/scratch/ASTR5160/week10/qsos-ra180-dec30-rad3.fits'\n",
    "qso_table = Table.read(qso_file_path)\n",
    "#TJ the first output is the psfobjs that have matches, second is qso_table objects, third is the unmatched rows from the psfobjs\n",
    "qsos, _, not_qsos = cross_match_objects(psfobjs, qso_table, max_sep=1/3600)\n",
    "print(f'Found {len(qsos)} matching qso objects. This should be 275.')\n",
    "\n",
    "psfobjs.write('../Data_files/Class21_psfobjs.fits', format='fits', overwrite=True)\n",
    "qsos.write('../Data_files/Class21_qsos.fits', format='fits', overwrite=True)\n",
    "not_qsos.write('../Data_files/Class21_not_qsos.fits', format='fits', overwrite=True)"
   ]
  },
  {
   "cell_type": "code",
   "execution_count": null,
   "id": "7a70e7a1-0e7a-4550-ac90-4d0feebc5a6b",
   "metadata": {},
   "outputs": [],
   "source": []
  }
 ],
 "metadata": {
  "kernelspec": {
   "display_name": "Python 3 (ipykernel)",
   "language": "python",
   "name": "python3"
  },
  "language_info": {
   "codemirror_mode": {
    "name": "ipython",
    "version": 3
   },
   "file_extension": ".py",
   "mimetype": "text/x-python",
   "name": "python",
   "nbconvert_exporter": "python",
   "pygments_lexer": "ipython3",
   "version": "3.11.7"
  }
 },
 "nbformat": 4,
 "nbformat_minor": 5
}
