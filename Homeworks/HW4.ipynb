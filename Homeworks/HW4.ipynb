{
 "cells": [
  {
   "cell_type": "code",
   "execution_count": 4,
   "id": "fdcb9f00-a79e-4148-a6e6-6bcebdb07ff8",
   "metadata": {},
   "outputs": [
    {
     "name": "stderr",
     "output_type": "stream",
     "text": [
      "usage: ipykernel_launcher.py [-h] path\n",
      "ipykernel_launcher.py: error: unrecognized arguments: -f\n"
     ]
    },
    {
     "ename": "SystemExit",
     "evalue": "2",
     "output_type": "error",
     "traceback": [
      "An exception has occurred, use %tb to see the full traceback.\n",
      "\u001b[0;31mSystemExit\u001b[0m\u001b[0;31m:\u001b[0m 2\n"
     ]
    }
   ],
   "source": [
    "from astropy.table import Table\n",
    "import numpy as np\n",
    "import sys\n",
    "import os\n",
    "sys.path.append(os.path.abspath(os.path.join(os.getcwd(), '..'))) #TJ change directory to include the entire ASTRO5160 directory\n",
    "from Homeworks.useful_functions import *\n",
    "\n",
    "def splendid_function(table):\n",
    "    \"\"\"Determines which objects in table are likely to be qsos. Expected ~95% of qsos will be correctly identified as qsos,\n",
    "    expected ~1% of non-qsos to be erroneously selected as a qso. Note for LARGE tables, it is likely that MOST of these objects\n",
    "    are not qsos, but MOST of the qsos in the table will be correctly identified as qsos. In other words, false positives are \n",
    "    significantly more likely than false negatives.\n",
    "\n",
    "    Parameters\n",
    "    -------------\n",
    "    table :  type = astropy.table - table of objects\n",
    "    \n",
    "    Returns\n",
    "    -------------\n",
    "    True/False array with length equal to rows in table, True means the object was identified as a qso\n",
    "        \n",
    "    \"\"\"\n",
    "\n",
    "    cut_values= [1.67838290e+12, 3.11068380e+12, 1.42528763e+01, 1.98868179e+01,\n",
    "           1.29941151e-01] #TJ these cuts were determined by a machine learning algorithm I wrote\n",
    "    cut_columns = ['RA_IVAR', 'DEC_IVAR', 'FLUX_W1', 'FLUX_W2', \n",
    "           'GAIA_ASTROMETRIC_SIGMA5D_MAX'] \n",
    "    #TJ these columns were selected by that same machine learning algorithm that tried many columns and combinations of columns\n",
    "    objects = trim_high_R_mag(table) #TJ remove objects that are dim in R_band\n",
    "    kept_objects = trim_columns(objects,cut_columns) #TJ trim the table of all the extra columns so it is faster to work with\n",
    "    tally_array = [\n",
    "        (np.array([obj[col] for col in cut_columns]) > cut_values).astype(int).tolist()\n",
    "        for obj in kept_objects\n",
    "    ] #TJ this is an array of [1, 1, 1, 1, 1] if it is flagged as a qso for all columns\n",
    "    return [sum(row)>4 for row in tally_array] #TJ return true only if all of the columns passed the benchmark\n",
    "\n",
    "def trim_columns(table, kept_columns):\n",
    "    \"\"\"Trim a table with a large number of columns to only include columns we need, this is for faster processing.\n",
    "\n",
    "    Parameters\n",
    "    -------------\n",
    "    table :  type = astropy.table - table of objects, must include columns with titles in the kept_columns argument\n",
    "    kept_columns :  type = list - list of strings corresponding to the column names\n",
    "    \n",
    "    Returns\n",
    "    -------------\n",
    "    original table with only columns in the kept_columns list\n",
    "        \n",
    "    \"\"\"\n",
    "    return table[kept_columns]\n",
    "\n",
    "def trim_high_R_mag(table):\n",
    "    \"\"\"Trim a table of objects to only include objects with R_mag of less than 19\n",
    "\n",
    "    Parameters\n",
    "    -------------\n",
    "    table :  type = astropy.table - table of objects, must include \"FLUX_R\" column\n",
    "    \n",
    "    Returns\n",
    "    -------------\n",
    "    original table with any objects with R_magnitude higher than 19 removed \n",
    "    \"\"\"\n",
    "    new_table = add_mag_column(table, [\"FLUX_R\"]) #TJ add the magnitude column for R\n",
    "    return new_table[new_table['R_mag'] <19] #TJ delete any rows that have R_magnitudes larger than 19\n",
    "\n",
    "\n",
    "if __name__ == \"__main__\":\n",
    "    import argparse\n",
    "    from astropy.table import Table\n",
    "    #TJ add argparse object and description\n",
    "    parser = argparse.ArgumentParser(description=\"\"\"Uses cuts in the following columns (RA_IVAR, DEC_IVAR, FLUX_W1, FLUX_W2, \n",
    "    and GAIA_ASTROMETRIC_SIGMA5D_MAX) to determine which of the objects in a given fits file are determined to be qsos. These \n",
    "    cuts and  columns were determined by a machine learning algorithm that can be found by asking Taylor (it's stored locally \n",
    "    on his computer and was not pushed to github. Note for LARGE tables, it is likely that MOST of these objects\n",
    "    are not qsos, but MOST of the qsos in the table will be correctly identified as qsos. In other words, false positives are \n",
    "    significantly more likely than false negatives.\"\"\") \n",
    "    #TJ assign argument type and help note\n",
    "    parser.add_argument(\"path\", type=str, help=\"path to fits file\") \n",
    "\n",
    "    args = parser.parse_args() #TJ assign arugments\n",
    "    \n",
    "    path = args.path #TJ assign variable to the provided argument\n",
    "    print(f'reading in data from {path}.')\n",
    "    table = Table.read(path) #TJ read in fits file\n",
    "    print(\"Approximate number of qsos in fits file:\", sum(splendid_function(table))) #TJ print the total number of objects flagged as qso"
   ]
  }
 ],
 "metadata": {
  "kernelspec": {
   "display_name": "Python 3 (ipykernel)",
   "language": "python",
   "name": "python3"
  },
  "language_info": {
   "codemirror_mode": {
    "name": "ipython",
    "version": 3
   },
   "file_extension": ".py",
   "mimetype": "text/x-python",
   "name": "python",
   "nbconvert_exporter": "python",
   "pygments_lexer": "ipython3",
   "version": "3.11.7"
  }
 },
 "nbformat": 4,
 "nbformat_minor": 5
}
