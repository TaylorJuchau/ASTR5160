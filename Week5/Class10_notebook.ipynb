{
 "cells": [
  {
   "cell_type": "code",
   "execution_count": 3,
   "id": "16abff11",
   "metadata": {},
   "outputs": [],
   "source": [
    "import numpy as np\n",
    "from astropy.coordinates import SkyCoord\n",
    "from astropy import units as u"
   ]
  },
  {
   "cell_type": "code",
   "execution_count": 24,
   "id": "474a5bf7",
   "metadata": {},
   "outputs": [
    {
     "name": "stdout",
     "output_type": "stream",
     "text": [
      "(-0.9659258262890682, 0.258819045102521, 0.0, 1)\n"
     ]
    }
   ],
   "source": [
    "#Python task #1 cap bounded by 5h right ascension\n",
    "def define_cap_bounded_by_ra(right_ascension):\n",
    "    '''Define a cap bounded by a given Right Ascension\n",
    "    \n",
    "    Parameters\n",
    "    -------------\n",
    "    RA : right ascension in hours\n",
    "\n",
    "    Returns\n",
    "    -------------\n",
    "    4-d vector representing the x,y,z pointing to the center of the cap, and the size of the cap in 1-cos(theta), \n",
    "    here assumed to be half the hemisphere\n",
    "    \n",
    "    '''\n",
    "    RA = (right_ascension+6)*u.hourangle #TJ set cap center to be offset by 90 degrees\n",
    "    Dec = 0*u.deg #TJ set declination to 0\n",
    "    center = SkyCoord(ra = RA, dec = Dec) #TJ get skycoord of center of cap\n",
    "    cap_xyz = center.cartesian #TJ convert to x, y, z values\n",
    "    h = 1 #TJ set height of cap to 2\n",
    "    return (float(cap_xyz.x), float(cap_xyz.y), float(cap_xyz.z), 1)\n",
    "if __name__ == \"__main__\":\n",
    "    answer = define_cap_bounded_by_ra(5)\n",
    "    print(answer)"
   ]
  },
  {
   "cell_type": "code",
   "execution_count": 41,
   "id": "fabaa452",
   "metadata": {},
   "outputs": [
    {
     "name": "stdout",
     "output_type": "stream",
     "text": [
      "(0.0, 0.0, 1.0, 0.41221474770752686)\n"
     ]
    }
   ],
   "source": [
    "def define_cap_bounded_by_dec(declination):\n",
    "    '''Define a cap bounded by a given declination in degrees\n",
    "    \n",
    "    Parameters\n",
    "    -------------\n",
    "    Declination : declination of the bottom of the circumpolar cap\n",
    "\n",
    "    Returns\n",
    "    -------------\n",
    "    4-d vector representing the x,y,z pointing to the center of the cap, and the size of the cap in 1-cos(theta) set by\n",
    "    the provided declination\n",
    "    \n",
    "    '''\n",
    "    RA = 0*u.hourangle\n",
    "    Dec = 90*u.deg\n",
    "    center = SkyCoord(ra = RA, dec = Dec)\n",
    "    cap_xyz = center.cartesian\n",
    "    h = np.sin(declination*u.deg)\n",
    "    x, y, z = float(cap_xyz.x), float(cap_xyz.y), float(cap_xyz.z)\n",
    "    if abs(cap_xyz.x) < 0.00000001:\n",
    "        x = 0.\n",
    "    if abs(cap_xyz.y) < 0.00000001:\n",
    "        y = 0.\n",
    "    if abs(cap_xyz.z) < 0.00000001:\n",
    "        z = 0.\n",
    "    return (x, y, z, float(1-h))\n",
    "if __name__ == \"__main__\":\n",
    "    answer = define_cap_bounded_by_dec(36)\n",
    "    print(answer)"
   ]
  },
  {
   "cell_type": "code",
   "execution_count": 51,
   "id": "4111b4d2",
   "metadata": {},
   "outputs": [
    {
     "name": "stdout",
     "output_type": "stream",
     "text": [
      "(0.20938900595583548, 0.7814504087735196, 0.5877852522924731, 0.00015230484360873042)\n"
     ]
    }
   ],
   "source": [
    "def define_cap(Right_Ascension, Declination, Radius):\n",
    "    '''Define a cap centered at provided Right Ascension and Declination, with radius in degrees\n",
    "    \n",
    "    Parameters\n",
    "    -------------\n",
    "    Right_Ascension : RA in hours\n",
    "    Declination : declination of the center of cap in degrees\n",
    "    Radius : sets how many degrees the cap's radius is\n",
    "\n",
    "    Returns\n",
    "    -------------\n",
    "    4-d vector representing the x,y,z pointing to the center of the cap, and the size of the cap in 1-cos(theta)\n",
    "    \n",
    "    '''\n",
    "    RA = Right_Ascension*u.hourangle\n",
    "    Dec = Declination*u.deg\n",
    "    center = SkyCoord(ra = RA, dec = Dec)\n",
    "    cap_xyz = center.cartesian\n",
    "    x, y, z = float(cap_xyz.x), float(cap_xyz.y), float(cap_xyz.z)\n",
    "    if abs(cap_xyz.x) < 0.00000001:\n",
    "        x = 0.\n",
    "    if abs(cap_xyz.y) < 0.00000001:\n",
    "        y = 0.\n",
    "    if abs(cap_xyz.z) < 0.00000001:\n",
    "        z = 0.\n",
    "    h = np.cos(Radius*u.deg)\n",
    "    return (x, y, z, float(1-h))\n",
    "if __name__ == \"__main__\":\n",
    "    answer = define_cap(5,36,1)\n",
    "    print(answer)"
   ]
  },
  {
   "cell_type": "code",
   "execution_count": null,
   "id": "915193c3",
   "metadata": {},
   "outputs": [],
   "source": []
  }
 ],
 "metadata": {
  "kernelspec": {
   "display_name": "Python 3 (ipykernel)",
   "language": "python",
   "name": "python3"
  },
  "language_info": {
   "codemirror_mode": {
    "name": "ipython",
    "version": 3
   },
   "file_extension": ".py",
   "mimetype": "text/x-python",
   "name": "python",
   "nbconvert_exporter": "python",
   "pygments_lexer": "ipython3",
   "version": "3.11.7"
  }
 },
 "nbformat": 4,
 "nbformat_minor": 5
}
