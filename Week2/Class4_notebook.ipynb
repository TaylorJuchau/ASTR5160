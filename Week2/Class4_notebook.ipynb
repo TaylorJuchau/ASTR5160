{
 "cells": [
  {
   "cell_type": "code",
   "execution_count": 1,
   "id": "ab35b581",
   "metadata": {},
   "outputs": [
    {
     "name": "stdout",
     "output_type": "stream",
     "text": [
      "<SkyCoord (ICRS): (ra, dec) in deg\n",
      "    (201.3125, 67.60111111)>     manually converted: [201.3125, 67.60111111111111]\n"
     ]
    }
   ],
   "source": [
    "#TJ import needed packages\n",
    "import numpy as np\n",
    "from astropy.time import Time\n",
    "from astropy import units as u\n",
    "from astropy.coordinates import SkyCoord, EarthLocation, AltAz\n",
    "#Python task #2 convert RA and Dec to degrees\n",
    "sample_dec_string = \"67 36 4\" #TJ just a random Declination in units of (degrees, minutes, seconds)\n",
    "sample_RA_string = \"13 25 15\" #TJ just a random Right Ascension in units of (hours, minutes, seconds)\n",
    "coordinates = SkyCoord(sample_RA_string, sample_dec_string, unit=(u.hourangle, u.deg)) #TJ convert strings into a SkyCoord coordinate\n",
    "manually_converted = [15*(13+(25/60)+(15/3600)), (67+(36/60)+(4/3600))]\n",
    "print(f'{coordinates}     manually converted: {manually_converted}') #TJ print both methods to check"
   ]
  },
  {
   "cell_type": "code",
   "execution_count": 2,
   "id": "5cb05d41",
   "metadata": {},
   "outputs": [
    {
     "name": "stdout",
     "output_type": "stream",
     "text": [
      "jd : 2460721.3346798853,  mjd : 60720.8346798853, difference : 2400000.5\n"
     ]
    }
   ],
   "source": [
    "#Python task #3 Find current Julian date and modified Julian date\n",
    "now = Time.now() #TJ create timestamp\n",
    "now_jd = now.jd #TJ convert to Julian date\n",
    "now_mjd = now.mjd #TJ convert to modified Julian date\n",
    "print(f'jd : {now_jd},  mjd : {now_mjd}, difference : {now_jd-now_mjd}') #print to check relationship"
   ]
  },
  {
   "cell_type": "code",
   "execution_count": 3,
   "id": "69c093af",
   "metadata": {},
   "outputs": [
    {
     "name": "stderr",
     "output_type": "stream",
     "text": [
      "WARNING: TimeDeltaMissingUnitWarning: Numerical value without unit or explicit format passed to TimeDelta, assuming days [astropy.time.core]\n"
     ]
    },
    {
     "data": {
      "text/plain": [
       "[['today -10 days : ', 60710.8346800578],\n",
       " ['today -9 days : ', 60711.83468031437],\n",
       " ['today -8 days : ', 60712.83468031437],\n",
       " ['today -7 days : ', 60713.83468031437],\n",
       " ['today -6 days : ', 60714.83468031437],\n",
       " ['today -5 days : ', 60715.83468031437],\n",
       " ['today -4 days : ', 60716.83468031437],\n",
       " ['today -3 days : ', 60717.83468031437],\n",
       " ['today -2 days : ', 60718.83468031437],\n",
       " ['today -1 days : ', 60719.83468031437],\n",
       " ['today 0 days : ', 60720.83468031437],\n",
       " ['today 1 days : ', 60721.83468049706],\n",
       " ['today 2 days : ', 60722.83468049706],\n",
       " ['today 3 days : ', 60723.83468049706],\n",
       " ['today 4 days : ', 60724.83468049706],\n",
       " ['today 5 days : ', 60725.83468049706],\n",
       " ['today 6 days : ', 60726.83468052031],\n",
       " ['today 7 days : ', 60727.83468052031],\n",
       " ['today 8 days : ', 60728.83468052031],\n",
       " ['today 9 days : ', 60729.83468052031],\n",
       " ['today 10 days : ', 60730.83468052031]]"
      ]
     },
     "execution_count": 3,
     "metadata": {},
     "output_type": "execute_result"
    }
   ],
   "source": [
    "#Python task #4 Create array of Julian dates for days around today\n",
    "julian_dates_around_today = [] #TJ initialize array\n",
    "for i in np.arange(-10,11):\n",
    "    time_for_new_day = Time.now()+i #TJ create timestamo for this new day\n",
    "    julian_dates_around_today.append([f\"today {i} days : \", time_for_new_day.mjd]) #TJ convert new day into MJD and label row\n",
    "julian_dates_around_today #TJ display the array"
   ]
  },
  {
   "cell_type": "code",
   "execution_count": 7,
   "id": "7ff29bd8",
   "metadata": {},
   "outputs": [],
   "source": [
    "#Python task #5 set WIRO location\n",
    "latitude = (41 + (5 / 60) + (49 / 3600)) *u.deg   #TJ latitude of WIRO in degrees\n",
    "longitude = (-(105 + (58 / 60) + (33 / 3600)))*u.deg  #TJ longitude of WIRO in degrees\n",
    "altitude = 2943 * u.m  #TJ altitude of WIRO in meters\n",
    "\n",
    "WIRO_location = EarthLocation.from_geodetic(lat=latitude, lon=longitude, height=altitude) #TJ set WIRO location\n"
   ]
  },
  {
   "cell_type": "code",
   "execution_count": 5,
   "id": "efa6aede",
   "metadata": {},
   "outputs": [
    {
     "name": "stdout",
     "output_type": "stream",
     "text": [
      "object's Altitude tonight= 3.7e+01 deg    object's Azimuth = 8.1e+01 deg\n",
      "object airmass tonight at 11pm : 1.6459019738510412\n",
      "object's Altitude next month= 6e+01 deg    object's Azimuth = 1e+02 deg\n",
      "object airmass next month at 11pm : 1.159563541263801\n"
     ]
    }
   ],
   "source": [
    "#python task #6 calculate air mass\n",
    "utcoffset = -7 * u.hour  #TJ define offset from UTC to Mountain time\n",
    "time_tonight = Time(\"2025-1-31 23:00:00\") - utcoffset #TJ set time we are going to observe at tonight\n",
    "object_RA = '12 0 0' #TJ set object RA in hours, min, sec\n",
    "object_dec = '30 0 0' #TJ set object declination in degrees\n",
    "object_coordinates = SkyCoord(object_RA, object_dec, unit=(u.hourangle, u.deg)) #create SkyCoord location\n",
    "object_altaz_tonight = object_coordinates.transform_to(AltAz(obstime=time_tonight, location=WIRO_location)) #TJ get altitude and azimuth\n",
    "print(f\"object's Altitude tonight= {object_altaz_tonight.alt:.2}    object's Azimuth = {object_altaz_tonight.az:.2}\")\n",
    "object_airmass_tonight = object_altaz_tonight.secz #get airmass at this time\n",
    "print(f'object airmass tonight at 11pm : {object_airmass_tonight}')\n",
    "time_next_month = Time(\"2025-3-02 23:00:00\") - utcoffset #TJ set time we are going to observe at in a month\n",
    "object_altaz_next_month = object_coordinates.transform_to(AltAz(obstime=time_next_month, location=WIRO_location)) #TJ get altitude and azimuth\n",
    "print(f\"object's Altitude next month= {object_altaz_next_month.alt:.2}    object's Azimuth = {object_altaz_next_month.az:.2}\")\n",
    "object_airmass_next_month = object_altaz_next_month.secz #get airmass at this time\n",
    "print(f'object airmass next month at 11pm : {object_airmass_next_month}')\n",
    "\n"
   ]
  },
  {
   "cell_type": "code",
   "execution_count": null,
   "id": "8b5dc295",
   "metadata": {},
   "outputs": [],
   "source": []
  },
  {
   "cell_type": "code",
   "execution_count": null,
   "id": "97fe79d5",
   "metadata": {},
   "outputs": [],
   "source": []
  }
 ],
 "metadata": {
  "kernelspec": {
   "display_name": "Python 3 (ipykernel)",
   "language": "python",
   "name": "python3"
  },
  "language_info": {
   "codemirror_mode": {
    "name": "ipython",
    "version": 3
   },
   "file_extension": ".py",
   "mimetype": "text/x-python",
   "name": "python",
   "nbconvert_exporter": "python",
   "pygments_lexer": "ipython3",
   "version": "3.11.5"
  }
 },
 "nbformat": 4,
 "nbformat_minor": 5
}
