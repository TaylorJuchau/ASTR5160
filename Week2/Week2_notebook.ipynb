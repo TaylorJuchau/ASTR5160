{
 "cells": [
  {
   "cell_type": "code",
   "execution_count": 2,
   "id": "1100586d",
   "metadata": {},
   "outputs": [],
   "source": [
    "import astropy\n",
    "from astropy import table"
   ]
  },
  {
   "cell_type": "code",
   "execution_count": null,
   "id": "fe48df81",
   "metadata": {},
   "outputs": [],
   "source": []
  },
  {
   "cell_type": "code",
   "execution_count": null,
   "id": "7f820a24",
   "metadata": {},
   "outputs": [],
   "source": []
  }
 ],
 "metadata": {
  "kernelspec": {
   "display_name": "Python 3 (ipykernel)",
   "language": "python",
   "name": "python3"
  },
  "language_info": {
   "codemirror_mode": {
    "name": "ipython",
    "version": 3
   },
   "file_extension": ".py",
   "mimetype": "text/x-python",
   "name": "python",
   "nbconvert_exporter": "python",
   "pygments_lexer": "ipython3",
   "version": "3.11.5"
  }
 },
 "nbformat": 4,
 "nbformat_minor": 5
}
