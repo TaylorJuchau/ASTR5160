{
 "cells": [
  {
   "cell_type": "code",
   "execution_count": 1,
   "id": "18d66c08",
   "metadata": {},
   "outputs": [
    {
     "name": "stdout",
     "output_type": "stream",
     "text": [
      "computed g-mag : 15.6598, compared to SDSS g-mag : 15.7\n",
      "computed z-mag : 14.52042, compared to SDSS z-mag : 14.55\n",
      "well.... close enough?\n"
     ]
    }
   ],
   "source": [
    "#python task 1 convert UBVRI to ugriz\n",
    "#TJ define all the properties found from the standard star link\n",
    "name = \"PG1633+099A\"\n",
    "ra = ((16)+(35/60)+(26/3600))*15\n",
    "dec = (9)+(47/60)+(53/3600)\n",
    "V = 15.256\n",
    "BmV = 0.873 #TJ (B - V)\n",
    "UmB = 0.320 #TJ (U - B)\n",
    "VmR = 0.505 #TJ (V - R)\n",
    "RmI = 0.511 #TJ (R - I)\n",
    "#TJ define properties from SDSS\n",
    "SDSS_g = 15.7\n",
    "SDSS_u = 17.30\n",
    "SDSS_z = 14.55\n",
    "#TJ start using equations for transformation.\n",
    "umg = 1.28*(UmB) + 1.13\n",
    "gmr = 1.02*(BmV) - 0.22\n",
    "rmz = 1.72*(RmI) - 0.41\n",
    "g = V + 0.60*(BmV) - 0.12\n",
    "z = g - gmr - rmz #TJ g - (g - r) - (r - z) = z\n",
    "print(f'computed g-mag : {g}, compared to SDSS g-mag : {SDSS_g}')\n",
    "print(f'computed z-mag : {z}, compared to SDSS z-mag : {SDSS_z}')\n",
    "print('well.... close enough?')"
   ]
  },
  {
   "cell_type": "code",
   "execution_count": 2,
   "id": "77764015",
   "metadata": {},
   "outputs": [
    {
     "name": "stderr",
     "output_type": "stream",
     "text": [
      "WARNING: UnitsWarning: '1/deg^2' did not parse as fits unit: Numeric factor not supported by FITS If this is meant to be a custom unit, define it with 'u.def_unit'. To have it recognized inside a file reader or other code, enable it with 'u.add_enabled_units'. For details, see https://docs.astropy.org/en/latest/units/combining_and_defining.html [astropy.units.core]\n",
      "WARNING: UnitsWarning: 'nanomaggy' did not parse as fits unit: At col 0, Unit 'nanomaggy' not supported by the FITS standard.  If this is meant to be a custom unit, define it with 'u.def_unit'. To have it recognized inside a file reader or other code, enable it with 'u.add_enabled_units'. For details, see https://docs.astropy.org/en/latest/units/combining_and_defining.html [astropy.units.core]\n",
      "WARNING: UnitsWarning: '1/nanomaggy^2' did not parse as fits unit: Numeric factor not supported by FITS If this is meant to be a custom unit, define it with 'u.def_unit'. To have it recognized inside a file reader or other code, enable it with 'u.add_enabled_units'. For details, see https://docs.astropy.org/en/latest/units/combining_and_defining.html [astropy.units.core]\n",
      "WARNING: UnitsWarning: '1/arcsec^2' did not parse as fits unit: Numeric factor not supported by FITS If this is meant to be a custom unit, define it with 'u.def_unit'. To have it recognized inside a file reader or other code, enable it with 'u.add_enabled_units'. For details, see https://docs.astropy.org/en/latest/units/combining_and_defining.html [astropy.units.core]\n",
      "WARNING: UnitsWarning: '1/mas^2' did not parse as fits unit: Numeric factor not supported by FITS If this is meant to be a custom unit, define it with 'u.def_unit'. To have it recognized inside a file reader or other code, enable it with 'u.add_enabled_units'. For details, see https://docs.astropy.org/en/latest/units/combining_and_defining.html [astropy.units.core]\n",
      "WARNING: UnitsWarning: '1/(mas/yr)^2' did not parse as fits unit: Numeric factor not supported by FITS If this is meant to be a custom unit, define it with 'u.def_unit'. To have it recognized inside a file reader or other code, enable it with 'u.add_enabled_units'. For details, see https://docs.astropy.org/en/latest/units/combining_and_defining.html [astropy.units.core]\n"
     ]
    },
    {
     "name": "stdout",
     "output_type": "stream",
     "text": [
      "compare calculated g, r, z = [15.58, 14.9, 14.52] \n",
      "to SDSS values g, r, z = [15.7, 15.19, 14.55]\n",
      "these are.... kinda close? I am not too happy about how far apart the r_mag values are.\n",
      "Star WISE magnitudes : \n",
      "W1: 603.8308715820312 \n",
      "W2: 328.5704650878906 \n",
      "W3: 38.9851188659668 \n",
      "W4: -890.0303955078125\n",
      "based on the magnitude for W4, this star was NOT detected in this band\n"
     ]
    }
   ],
   "source": [
    "#python task 2 \n",
    "from astropy.table import Table\n",
    "import numpy as np\n",
    "path = '/d/scratch/ASTR5160/data/legacysurvey/dr9/south/sweep/9.0/sweep-240p005-250p010.fits'\n",
    "table = Table.read(path)\n",
    "distance = np.sqrt((table[\"RA\"] - ra)**2 + (table[\"DEC\"] - dec)**2)\n",
    "nearest_index = np.argmin(distance)\n",
    "star = table[nearest_index]\n",
    "star_g_mag = round(22.5 - 2.5*np.log10(star[\"FLUX_G\"]), 2)\n",
    "star_r_mag = round(22.5 - 2.5*np.log10(star[\"FLUX_R\"]), 2)\n",
    "star_z_mag = round(22.5 - 2.5*np.log10(star[\"FLUX_Z\"]), 2)\n",
    "SDSS_grz_values = [15.7, 15.19, 14.55]\n",
    "print(f'compare calculated g, r, z = {[star_g_mag, star_r_mag, star_z_mag]} \\nto SDSS values g, r, z = {SDSS_grz_values}')\n",
    "print('these are.... kinda close? I am not too happy about how far apart the r_mag values are.')\n",
    "print(f'Star WISE magnitudes : \\nW1: {star[\"FLUX_W1\"]} \\nW2: {star[\"FLUX_W2\"]} \\nW3: {star[\"FLUX_W3\"]} \\nW4: {star[\"FLUX_W4\"]}')\n",
    "print('based on the magnitude for W4, this star was NOT detected in this band')"
   ]
  },
  {
   "cell_type": "code",
   "execution_count": null,
   "id": "04a1a3c7",
   "metadata": {},
   "outputs": [],
   "source": []
  },
  {
   "cell_type": "code",
   "execution_count": null,
   "id": "0f62c2a0",
   "metadata": {},
   "outputs": [],
   "source": []
  }
 ],
 "metadata": {
  "kernelspec": {
   "display_name": "Python 3 (ipykernel)",
   "language": "python",
   "name": "python3"
  },
  "language_info": {
   "codemirror_mode": {
    "name": "ipython",
    "version": 3
   },
   "file_extension": ".py",
   "mimetype": "text/x-python",
   "name": "python",
   "nbconvert_exporter": "python",
   "pygments_lexer": "ipython3",
   "version": "3.11.7"
  }
 },
 "nbformat": 4,
 "nbformat_minor": 5
}
