{
 "cells": [
  {
   "cell_type": "code",
   "execution_count": 41,
   "id": "62c7e996-9553-47fc-aa07-27faf5890502",
   "metadata": {},
   "outputs": [
    {
     "name": "stderr",
     "output_type": "stream",
     "text": [
      "usage: ipykernel_launcher.py [-h] month\n",
      "ipykernel_launcher.py: error: unrecognized arguments: -f\n"
     ]
    },
    {
     "ename": "SystemExit",
     "evalue": "2",
     "output_type": "error",
     "traceback": [
      "An exception has occurred, use %tb to see the full traceback.\n",
      "\u001b[0;31mSystemExit\u001b[0m\u001b[0;31m:\u001b[0m 2\n"
     ]
    },
    {
     "name": "stderr",
     "output_type": "stream",
     "text": [
      "/usr/local/Anaconda2024/lib/python3.11/site-packages/IPython/core/interactiveshell.py:3561: UserWarning: To exit: use 'exit', 'quit', or Ctrl-D.\n",
      "  warn(\"To exit: use 'exit', 'quit', or Ctrl-D.\", stacklevel=1)\n"
     ]
    }
   ],
   "source": [
    "import matplotlib.pyplot as plt\n",
    "import astropy.units as u\n",
    "import numpy as np\n",
    "from astropy.coordinates import SkyCoord, EarthLocation, AltAz\n",
    "from astropy.time import Time\n",
    "import re\n",
    "from tabulate import tabulate\n",
    "import argparse\n",
    "\n",
    "\n",
    "data_file_location = '/d/scratch/ASTR5160/week4/HW1quasarfile.txt' #TJ Define default data file location\n",
    "\n",
    "#TJ allow file to be run on my laptop by checking if I currently have access to the /d/ drive, if not, define data file location locally\n",
    "try: \n",
    "    open(data_file_location, \"r\")\n",
    "except FileNotFoundError:\n",
    "    data_file_location = \"C:/Users/tj360/ASTR5160/Data_files/HW1_data\" #TJ local data files stored in this folder (not synced to github)\n",
    "locations = [] #TJ Initialize what will be the full list of 1111 locations\n",
    "\n",
    "with open(data_file_location, \"r\") as file:\n",
    "    lines = file.readlines()  #TJ Read out data from each line\n",
    "    for line in lines:\n",
    "        line_string = line.strip() #TJ strip off the /n from each line\n",
    "        parts = re.split(r'(\\+|-)', line_string, maxsplit=1)  #TJ Split at first + or -\n",
    "        location_strings = [parts[0], parts[1] + parts[2]] #TJ Split ra and dec into separate strings\n",
    "        #TJ parse each string to extract hour, min, second from the RA\n",
    "        RA = f'{int(location_strings[0][:2])}'+'h'+f'{int(location_strings[0][2:4])}'+'m'+ f'{float(location_strings[0][4:])}'+'s'\n",
    "        #TJ parse each string to extract degrees, min, sec from Dec, make sure to count the sign in front and return it to the \n",
    "        sign = -1 if location_strings[1][0] == '-' else 1 #record the sign of the declination\n",
    "        Dec = f'{int(location_strings[1][1:3]) * sign}' + 'd' + f'{int(location_strings[1][3:5])}' + 'm' + f'{float(location_strings[1][5:])}'+'s'\n",
    "        locations.append([RA, Dec]) #TJ add to array of all locations in 'xxhxxmxx.xs', 'xxdxxmxx.xs' format\n",
    "locations = np.array(locations) #TJ convert to numpy array for better manipulation later\n",
    "QSO_locations = SkyCoord(locations[:,0], locations[:,1], unit = (u.hourangle, u.deg), frame='icrs') #TJ convert location array to SkyCoord array\n",
    "Observing_location = EarthLocation.of_site('kpno') #TJ set observation location to Kitt Peak, in cartesian coordinates with units of meters\n",
    "\n",
    "def find_lowest_airmass(argument):\n",
    "    \n",
    "    '''Find quasars that have the lowest air mass for every day of a given month, when observed from Kitt Peak at 11pm MST\n",
    "    \n",
    "    Parameters\n",
    "    -------------\n",
    "    month : class integer, representing a month of the year 2025 for which to run this analysis over.\n",
    "    or\n",
    "    month : class string, that is the three letter abreviation of a month, for examole \"Jan\" for January\n",
    "    \n",
    "    Returns\n",
    "    -------------\n",
    "    Table of values with columns for:\n",
    "    day (should be one row for every day in the provided month)\n",
    "    object location in hhmmss.ss ddmmss.ss\n",
    "    object Right Ascension given in degrees\n",
    "    object Declination in degrees\n",
    "    airmass of object at 11pm MST when viewed from Kitt Peak Observatory\n",
    "    '''\n",
    "    \n",
    "    year = 2025 #TJ set year to 2025, this can be easilly added as an argument, but assignment specifies that this is only for this year\n",
    "    if type(argument) == int: #TJ check if argument is an integer, if it is, check that it is a valid month (between 1 and 12)\n",
    "        if argument < 1 or argument > 12:\n",
    "            print('integer month must be between 1-12')\n",
    "            return None\n",
    "        month = argument\n",
    "    elif type(argument) == str and len(argument) == 3: #TJ check if argument is a string, and is in the accepted list of strings\n",
    "        arg_list = ['Jan', 'Feb', 'Mar', 'Apr', 'May', 'Jun', 'Jul', 'Aug', 'Sep', 'Oct', 'Nov', 'Dec']\n",
    "        if argument not in arg_list:\n",
    "            print('month not in recognizable format: acceptable arguments are integers between 1-12, or three letter abreviation of month, or full month. \\nString arguments must start with a capital letter')\n",
    "            return None\n",
    "        month = arg_list.index(argument)+1\n",
    "    elif type(argument) == str and len(argument) > 3: #TJ check if month is spelled out entirely\n",
    "        arg_list = ['January', 'February', 'March', 'April', 'May', 'June', 'July', 'August', 'September', 'October', 'November', 'December']\n",
    "        if argument not in arg_list:\n",
    "            print('month not in recognizable format: acceptable arguments are integers between 1-12, or three letter abreviation of month, or full month. \\nString arguments must start with a capital letter')\n",
    "            return None\n",
    "        month = arg_list.index(argument)+1\n",
    "    else:\n",
    "        print('month not in recognizable format: acceptable arguments are integers between 1-12, or three letter abreviation of month, or full month. \\nString arguments must start with a capital letter')\n",
    "        return None\n",
    "    month_lengths = [31, 28, 31, 30, 31, 30, 31, 31, 30, 31, 30, 31] #TJ assign lengths of each month\n",
    "    month_length = month_lengths[month-1] #TJ assign the appropriate number of days in the given month\n",
    "    utcoffset = -7 * u.hour  #TJ define offset from UTC to Mountain Standard Time outside daylight savings\n",
    "    start_time = Time(f\"{year}-{month}-02 06:00:00\") + utcoffset #TJ assign start date to be the 1st at 11pm MST\n",
    "    rows = [[\"Date \\nYYYY-MM-DD HH:MM:SS.SSS MST\", \"Quasar Coordinates \\n(hhmmss.ss ◦ ′ ′′)\", \"RA \\nDegrees (◦)\", \"Dec \\nDegrees (◦)\", \"Airmass\"]]\n",
    "    for day in range(0,month_length):\n",
    "        obs_time = start_time + day*24*u.hour #TJ observation time is an integer number of days after start time\n",
    "        QSO_altaz_tonight = QSO_locations.transform_to(AltAz(obstime=obs_time, location=Observing_location)) #TJ get altitude and azimuth at this night\n",
    "        airmass_array = QSO_altaz_tonight.secz #TJ get airmass at this time\n",
    "        positive_airmass_indices = np.where(airmass_array > 0)[0]  #TJ Get indices of positive values for airmass\n",
    "        prime_object_index = positive_airmass_indices[np.argmin(airmass_array[positive_airmass_indices])] #TJ extract lowest positive airmass\n",
    "        time = Time(f\"{year}-{month}-{day+1} 11:00:00\") #TJ set obs_time manually because daylight savings time screws up just using obs_time.value\n",
    "        prime_object_raw_location = lines[prime_object_index].strip() #TJ get raw location in given units for table\n",
    "        RA, Dec = QSO_locations[prime_object_index].ra.deg, QSO_locations[prime_object_index].dec.deg #TJ get RA and Dec in normal person units\n",
    "        min_air_mass = airmass_array[prime_object_index] #TJ get airmass for table\n",
    "        rows.append([time, prime_object_raw_location, RA, Dec, min_air_mass]) #TJ add this day's data to table\n",
    "    print(tabulate(rows[1:], headers = rows[0])) #TJ print table\n",
    "    \n",
    "    return None\n",
    "\n",
    "#TJ make sure this part runs when called from the command line\n",
    "if __name__ == \"__main__\":\n",
    "    parser = argparse.ArgumentParser(description=\"Find lowest airmass quasars for each day of a given month.\") #TJ add argparse object and description\n",
    "    parser.add_argument(\"month\", type=str, help=\"Month as an integer (1-12) or name (e.g., Jan, January)\") #TJ assign argument type and help note\n",
    "    args = parser.parse_args() #TJ assign arugments\n",
    "\n",
    "    #TJ try to convert argument to integer, if that fails, assume it is a month name\n",
    "    try:\n",
    "        month_input = int(args.month)\n",
    "    except ValueError:\n",
    "        month_input = args.month  \n",
    "\n",
    "    find_lowest_airmass(month_input) #TJ run the function"
   ]
  },
  {
   "cell_type": "code",
   "execution_count": null,
   "id": "05e06d30-bf60-4974-b9f7-41a2b3d1641b",
   "metadata": {},
   "outputs": [],
   "source": []
  },
  {
   "cell_type": "code",
   "execution_count": null,
   "id": "dd308078-b70d-42d3-a92f-fa1c30b05785",
   "metadata": {},
   "outputs": [],
   "source": []
  },
  {
   "cell_type": "code",
   "execution_count": null,
   "id": "f3180170-10da-4b1b-b2d2-f79cce9dc7c7",
   "metadata": {},
   "outputs": [],
   "source": []
  },
  {
   "cell_type": "code",
   "execution_count": null,
   "id": "c3ffe614-2a9d-47e7-9eaa-138bb377f4f4",
   "metadata": {},
   "outputs": [],
   "source": []
  },
  {
   "cell_type": "code",
   "execution_count": null,
   "id": "c04694d0-15bc-407b-91d9-181b0ccccfec",
   "metadata": {},
   "outputs": [],
   "source": []
  },
  {
   "cell_type": "code",
   "execution_count": null,
   "id": "a44c42f4-e4de-4caf-b29b-4d583556807e",
   "metadata": {},
   "outputs": [],
   "source": []
  },
  {
   "cell_type": "code",
   "execution_count": null,
   "id": "d4815a5c-d75c-46b1-8190-a975ea538e27",
   "metadata": {},
   "outputs": [],
   "source": []
  }
 ],
 "metadata": {
  "kernelspec": {
   "display_name": "Python 3 (ipykernel)",
   "language": "python",
   "name": "python3"
  },
  "language_info": {
   "codemirror_mode": {
    "name": "ipython",
    "version": 3
   },
   "file_extension": ".py",
   "mimetype": "text/x-python",
   "name": "python",
   "nbconvert_exporter": "python",
   "pygments_lexer": "ipython3",
   "version": "3.11.7"
  }
 },
 "nbformat": 4,
 "nbformat_minor": 5
}
