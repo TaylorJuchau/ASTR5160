{
 "cells": [
  {
   "cell_type": "code",
   "execution_count": 1,
   "id": "02951237",
   "metadata": {},
   "outputs": [],
   "source": [
    "#import needed packages\n",
    "from astropy import units as u\n",
    "from astropy.coordinates import SkyCoord\n",
    "import numpy as np"
   ]
  },
  {
   "cell_type": "code",
   "execution_count": 5,
   "id": "6c5d4e48",
   "metadata": {},
   "outputs": [],
   "source": [
    "RA1, Dec1 = 263.75*u.deg, -17.9*u.deg \n",
    "RA2, Dec2 = '20 24 59.9', '10 6 0'\n",
    "obj1 = SkyCoord(RA1, Dec1, unit=(u.hourangle, u.deg))"
   ]
  },
  {
   "cell_type": "code",
   "execution_count": 6,
   "id": "82ae7896",
   "metadata": {},
   "outputs": [
    {
     "data": {
      "text/latex": [
       "$[20,~24,~59.9] \\; \\mathrm{{}^{h}}$"
      ],
      "text/plain": [
       "<Quantity [20. , 24. , 59.9] hourangle>"
      ]
     },
     "execution_count": 6,
     "metadata": {},
     "output_type": "execute_result"
    }
   ],
   "source": [
    "RA2"
   ]
  },
  {
   "cell_type": "code",
   "execution_count": null,
   "id": "91d1b6e8",
   "metadata": {},
   "outputs": [],
   "source": []
  }
 ],
 "metadata": {
  "kernelspec": {
   "display_name": "Python 3 (ipykernel)",
   "language": "python",
   "name": "python3"
  },
  "language_info": {
   "codemirror_mode": {
    "name": "ipython",
    "version": 3
   },
   "file_extension": ".py",
   "mimetype": "text/x-python",
   "name": "python",
   "nbconvert_exporter": "python",
   "pygments_lexer": "ipython3",
   "version": "3.11.5"
  }
 },
 "nbformat": 4,
 "nbformat_minor": 5
}
