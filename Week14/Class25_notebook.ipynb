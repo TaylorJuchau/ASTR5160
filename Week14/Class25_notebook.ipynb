{
 "cells": [
  {
   "cell_type": "code",
   "execution_count": 1,
   "id": "6423955f-2517-4ecf-8149-2483b59ed1e9",
   "metadata": {},
   "outputs": [],
   "source": [
    "import numpy as np"
   ]
  },
  {
   "cell_type": "code",
   "execution_count": 2,
   "id": "eb5102f4-ad24-41ea-868f-7a140eacaa60",
   "metadata": {},
   "outputs": [],
   "source": [
    "#Python task #1 read in data and get variance\n",
    "data_file_path = '/d/scratch/ASTR5160/week13/line.data'\n",
    "show_plot = False #TJ change this to True to print plot to screen if you want\n",
    "y_vals = np.loadtxt(data_file_path)\n",
    "x_vals = np.linspace(0.5, 9.5, 10)\n",
    "y_var = [np.var(y_vals[:,i], ddof=1) for i in range(10)]\n",
    "y_mean = [np.mean(y_vals[:,i]) for i in range(10)]"
   ]
  },
  {
   "cell_type": "code",
   "execution_count": 3,
   "id": "0b72d1bb-c88e-44b4-8ef5-9d408390ef79",
   "metadata": {},
   "outputs": [],
   "source": [
    "#Python task #2 get ln of post-prob\n",
    "\n",
    "def ln_prior(m, b):\n",
    "    if (0 < b < 8) and (1 < m < 10):\n",
    "        return 0.0  #TJ flat prior inside acceptable range\n",
    "    else:\n",
    "        return -np.inf #TJ infinitely deweight models outside acceptable range \n",
    "\n",
    "\n",
    "\n",
    "def ln_post_prob(m, b):\n",
    "    '''find log of posterior probability of the m, b values for this particular dataset given at /d/scratch/ASTR5160/week13/line.data\n",
    "    -------------\n",
    "\n",
    "    Parameters\n",
    "    -------------\n",
    "    m :  type = float - represents the model's slope\n",
    "    b :  type = float - represents the model's y-intercept\n",
    "    \n",
    "    Returns\n",
    "    -------------\n",
    "    log of posterior probability\n",
    "    '''\n",
    "    return ln_prior(m, b) - 0.5*sum((((y_mean- (x_vals*m + b))**2)/y_var)+np.log(2*np.pi*np.array(y_var)))\n"
   ]
  },
  {
   "cell_type": "code",
   "execution_count": 4,
   "id": "d8383f21-e9c8-476e-8e6d-30b75e6444d2",
   "metadata": {},
   "outputs": [
    {
     "name": "stdout",
     "output_type": "stream",
     "text": [
      "This resulted in an acceptance rate of 0.3342 and a mean value of m = 3.035 +/- 0.166, b = 4.636 +/- 0.974\n"
     ]
    }
   ],
   "source": [
    "#Python task #3 use MCMC chain of parameters\n",
    "\n",
    "def met_hast(x_vals, y_vals, y_vars, m_0=3.5, b_0=5, steps=5000, step_size=0.3):\n",
    "    '''create MCMC chain of parameters\n",
    "    -------------\n",
    "\n",
    "    Parameters\n",
    "    -------------\n",
    "    x_vals : type = list - list of independent variables\n",
    "    y_vals : type = list - list of dependent variables (data)\n",
    "    y_vars : type = list - list of variances in y_vals\n",
    "    m_0 (optional, defaults to 3.5) : type = float - starting slope parameter\n",
    "    b_0 (optional, defaults to 4) : type = float - starting y-intercept parameter\n",
    "    steps (optional, defaults to 5000) : type = int - integer number of steps through parameter space we will take\n",
    "    step_size (optional, defaults to 0.3) : type = float - standard deviation of gaussian used for generating new parameters\n",
    "    **note** step size was varied until acceptance rate of ~30% was achieved. landed on 0.3 step size\n",
    "    \n",
    "    Returns\n",
    "    -------------\n",
    "    MCMC chain\n",
    "    '''\n",
    "    \n",
    "    m_chain = [m_0] #TJ initialize chains\n",
    "    b_chain = [b_0]\n",
    "    accepted = [] #TJ initialize accepted array (the mean of this array is the acceptance rate)\n",
    "    current_ln_post = ln_post_prob(m_0, b_0) #TJ this will be overwritten with a better value if one is found\n",
    "    \n",
    "    for i in range(steps):\n",
    "        #TJ generate new m and b to compare against previously held value\n",
    "        m_prop = np.random.normal(m_chain[-1], step_size)\n",
    "        b_prop = np.random.normal(b_chain[-1], step_size)\n",
    "        \n",
    "        #TJ compute new log-posterior\n",
    "        prop_ln_post = ln_post_prob(m_prop, b_prop)\n",
    "        \n",
    "        #TJ compute difference in post_prob values and accept or reject based on a randomly generated number\n",
    "        ln_R = prop_ln_post - current_ln_post\n",
    "        if np.random.rand() < np.exp(ln_R):\n",
    "            m_chain.append(m_prop)\n",
    "            b_chain.append(b_prop)\n",
    "            current_ln_post = prop_ln_post\n",
    "            accepted.append(1)\n",
    "        else:\n",
    "            m_chain.append(m_chain[-1])\n",
    "            b_chain.append(b_chain[-1])\n",
    "            accepted.append(0)\n",
    "    \n",
    "    return np.array(m_chain), np.array(b_chain), np.mean(accepted)\n",
    "m_chain, b_chain, acc_rate = met_hast(x_vals, y_vals, y_var)\n",
    "#TJ perform test, but ignore the first 500 values for the means, since these values will be skewed toward initial guesses\n",
    "print(f'This resulted in an acceptance rate of {acc_rate} and a mean value of m = {np.mean(m_chain[500:]):.3f} +/- {np.std(m_chain[500:]):.3f}, b = {np.mean(b_chain[500:]):.3f} +/- {np.std(b_chain[500:]):.3f}')"
   ]
  }
 ],
 "metadata": {
  "kernelspec": {
   "display_name": "Python 3 (ipykernel)",
   "language": "python",
   "name": "python3"
  },
  "language_info": {
   "codemirror_mode": {
    "name": "ipython",
    "version": 3
   },
   "file_extension": ".py",
   "mimetype": "text/x-python",
   "name": "python",
   "nbconvert_exporter": "python",
   "pygments_lexer": "ipython3",
   "version": "3.11.7"
  }
 },
 "nbformat": 4,
 "nbformat_minor": 5
}
