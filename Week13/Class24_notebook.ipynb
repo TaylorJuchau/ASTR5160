{
 "cells": [
  {
   "cell_type": "code",
   "execution_count": 1,
   "id": "b8d95cae-87b2-4df0-886c-60d41bbe06c7",
   "metadata": {},
   "outputs": [],
   "source": [
    "from scipy.stats import chi2\n",
    "import numpy as np\n",
    "import matplotlib.pyplot as plt"
   ]
  },
  {
   "cell_type": "code",
   "execution_count": 23,
   "id": "be173347-79d4-49f7-8dd3-70bf6b1e9fe1",
   "metadata": {},
   "outputs": [
    {
     "name": "stdout",
     "output_type": "stream",
     "text": [
      "Verify that the first numbers (diagnonals of the cov matrix) are equal to the second numbers (variances)\n",
      "2.4821515789473687 2.4821515789473687\n",
      "3.0327628947368415 3.032762894736841\n",
      "2.068647105263158 2.0686471052631576\n",
      "4.072372631578946 4.072372631578947\n",
      "7.646573421052631 7.64657342105263\n",
      "3.595204210526316 3.5952042105263153\n",
      "2.004206315789475 2.0042063157894754\n",
      "5.254129210526316 5.254129210526317\n",
      "2.757720789473686 2.757720789473686\n",
      "1.8903207894736838 1.8903207894736838\n"
     ]
    }
   ],
   "source": [
    "#Python task #1\n",
    "data_file_path = '/d/scratch/ASTR5160/week13/line.data'\n",
    "show_plot = False #TJ change this to True to print plot to screen if you want\n",
    "y_vals = np.loadtxt(data_file_path)\n",
    "x_vals = np.linspace(0.5, 9.5, 10)\n",
    "mean_y = [np.mean(y_vals[:,i]) for i in range(10)]\n",
    "y_std = [np.std(y_vals[:,i]) for i in range(10)]\n",
    "y_var = [np.var(y_vals[:,i], ddof=1) for i in range(10)] #TJ this will be the diagonal entries for the cov_matrix\n",
    "#TJ this matrix is how well each of the 10 data bins correlate to each other, theres no reason for there to be 20 entries for any x_bin\n",
    "cov_matrix = np.cov(y_vals, rowvar=False) #TJ this should be a 10by10 matrix\n",
    "print('Verify that the first numbers (diagnonals of the cov matrix) are equal to the second numbers (variances)')\n",
    "for i in range(10):\n",
    "    print(cov_matrix[i][i], y_var[i])\n",
    "\n",
    "\n",
    "\n",
    "\n",
    "\n",
    "#TJ if desired, show plot\n",
    "if show_plot:\n",
    "    for i in range(20):\n",
    "        plt.scatter(x_vals, y_vals[i], s = 1)\n",
    "    plt.errorbar(x_vals, mean_y, yerr=y_std, fmt='o', \n",
    "                 color='blue', ecolor='red', capsize=5,\n",
    "                 label='Mean with std deviation')\n",
    "    plt.title('some random data I found in a file')\n",
    "    plt.xlabel('anonymous x axis')\n",
    "    plt.ylabel('anonymous y axis')\n",
    "    plt.show()"
   ]
  },
  {
   "cell_type": "code",
   "execution_count": 47,
   "id": "0814d42c-c00f-4ee8-a60c-d4dcfadd6fd5",
   "metadata": {},
   "outputs": [
    {
     "name": "stdout",
     "output_type": "stream",
     "text": [
      "The values at [i,j] = [(0, 0)] and [(1, 1)] are both -inf, which is the lowest value in the covariance matrix\n",
      "This means that the datapoints in the 1st and 4th columns are the most ANTI-correlated\n",
      "The values at [i,j] = [(4, 7)] and [(7, 4)] are both 4.05435447368421, which is the largest [non-diagonal] value in the covariance matrix\n",
      "This means that the datapoints in the 5th and 8th columns are the most correlated\n"
     ]
    }
   ],
   "source": [
    "#Python task #2 find the most anticorrelated bins\n",
    "i, j = np.where(cov_matrix == np.min(cov_matrix)) #TJ search for most anticorrelated (lowest value in cov_matrix)\n",
    "print(f'The values at [i,j] = [{i[0],j[0]}] and [{i[1],j[1]}] are both {cov_matrix[i[0]][j[0]]}, which is the lowest value in the covariance matrix')\n",
    "print('This means that the datapoints in the 1st and 4th columns are the most ANTI-correlated')\n",
    "np.fill_diagonal(cov_matrix, -np.inf) #TJ replace diagnonals with negative infinity to ignore them for consideration of most correlated\n",
    "i, j = np.where(cov_matrix == np.max(cov_matrix)) #TJ search for most correlated (largest value in cov_matrix)\n",
    "print(f'The values at [i,j] = [{i[0],j[0]}] and [{i[1],j[1]}] are both {cov_matrix[i[0]][j[0]]}, which is the largest [non-diagonal] value in the covariance matrix')\n",
    "print('This means that the datapoints in the 5th and 8th columns are the most correlated')"
   ]
  }
 ],
 "metadata": {
  "kernelspec": {
   "display_name": "Python 3 (ipykernel)",
   "language": "python",
   "name": "python3"
  },
  "language_info": {
   "codemirror_mode": {
    "name": "ipython",
    "version": 3
   },
   "file_extension": ".py",
   "mimetype": "text/x-python",
   "name": "python",
   "nbconvert_exporter": "python",
   "pygments_lexer": "ipython3",
   "version": "3.11.7"
  }
 },
 "nbformat": 4,
 "nbformat_minor": 5
}
