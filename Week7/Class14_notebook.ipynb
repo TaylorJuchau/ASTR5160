{
 "cells": [
  {
   "cell_type": "code",
   "execution_count": 1,
   "id": "6bd76f28",
   "metadata": {},
   "outputs": [
    {
     "name": "stdout",
     "output_type": "stream",
     "text": [
      "C:\\Users\\tj360\\ASTR5160\n"
     ]
    }
   ],
   "source": [
    "cd .. #TJ this changes my working directory to be the entire ASTRO5160 folder (instead of just the week7 folder)"
   ]
  },
  {
   "cell_type": "code",
   "execution_count": 6,
   "id": "5d34c329",
   "metadata": {},
   "outputs": [],
   "source": [
    "import os\n",
    "import sys\n",
    "from Week5.Class10_notebook import * #TJ This imports the functions from class10, which is in week5 directory"
   ]
  },
  {
   "cell_type": "code",
   "execution_count": 8,
   "id": "e55af2de",
   "metadata": {},
   "outputs": [
    {
     "data": {
      "text/plain": [
       "(0.9657787111071577,\n",
       " 0.25877962570833346,\n",
       " 0.01745240643728351,\n",
       " 0.00015230484360873042)"
      ]
     },
     "execution_count": 8,
     "metadata": {},
     "output_type": "execute_result"
    }
   ],
   "source": [
    "define_cap(1,1,1) #TJ this verifies that this worked, since this cap function is from a .py file from another directory"
   ]
  },
  {
   "cell_type": "code",
   "execution_count": null,
   "id": "586736b6",
   "metadata": {},
   "outputs": [],
   "source": []
  }
 ],
 "metadata": {
  "kernelspec": {
   "display_name": "Python 3 (ipykernel)",
   "language": "python",
   "name": "python3"
  },
  "language_info": {
   "codemirror_mode": {
    "name": "ipython",
    "version": 3
   },
   "file_extension": ".py",
   "mimetype": "text/x-python",
   "name": "python",
   "nbconvert_exporter": "python",
   "pygments_lexer": "ipython3",
   "version": "3.11.5"
  }
 },
 "nbformat": 4,
 "nbformat_minor": 5
}
